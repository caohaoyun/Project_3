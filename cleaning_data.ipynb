{
 "cells": [
  {
   "cell_type": "code",
   "execution_count": 12,
   "metadata": {},
   "outputs": [],
   "source": [
    "#Imports\n",
    "import pandas as pd"
   ]
  },
  {
   "cell_type": "code",
   "execution_count": 13,
   "metadata": {},
   "outputs": [
    {
     "name": "stderr",
     "output_type": "stream",
     "text": [
      "C:\\Users\\fial_\\AppData\\Local\\Temp\\ipykernel_4916\\242988685.py:3: DtypeWarning: Columns (3,6,10,13,14,15,16,20,29,31,33,34,35,36,43,45,46,47,49,52,53,54,56,57,58,59,60,61,62,63) have mixed types. Specify dtype option on import or set low_memory=False.\n",
      "  df = pd.read_csv(path)\n"
     ]
    }
   ],
   "source": [
    "#Path and opening original data csv file\n",
    "path = \"Resources/alt_fuel_stations.csv\"\n",
    "df = pd.read_csv(path)"
   ]
  },
  {
   "cell_type": "code",
   "execution_count": 14,
   "metadata": {},
   "outputs": [
    {
     "name": "stdout",
     "output_type": "stream",
     "text": [
      "Index(['Fuel Type Code', 'Station Name', 'Street Address',\n",
      "       'Intersection Directions', 'City', 'State', 'ZIP', 'Plus4',\n",
      "       'Station Phone', 'Status Code', 'Expected Date',\n",
      "       'Groups With Access Code', 'Access Days Time', 'Cards Accepted',\n",
      "       'BD Blends', 'NG Fill Type Code', 'NG PSI', 'EV Level1 EVSE Num',\n",
      "       'EV Level2 EVSE Num', 'EV DC Fast Count', 'EV Other Info', 'EV Network',\n",
      "       'EV Network Web', 'Geocode Status', 'Latitude', 'Longitude',\n",
      "       'Date Last Confirmed', 'ID', 'Updated At', 'Owner Type Code',\n",
      "       'Federal Agency ID', 'Federal Agency Name', 'Open Date',\n",
      "       'Hydrogen Status Link', 'NG Vehicle Class', 'LPG Primary',\n",
      "       'E85 Blender Pump', 'EV Connector Types', 'Country',\n",
      "       'Intersection Directions (French)', 'Access Days Time (French)',\n",
      "       'BD Blends (French)', 'Groups With Access Code (French)',\n",
      "       'Hydrogen Is Retail', 'Access Code', 'Access Detail Code',\n",
      "       'Federal Agency Code', 'Facility Type', 'CNG Dispenser Num',\n",
      "       'CNG On-Site Renewable Source', 'CNG Total Compression Capacity',\n",
      "       'CNG Storage Capacity', 'LNG On-Site Renewable Source',\n",
      "       'E85 Other Ethanol Blends', 'EV Pricing', 'EV Pricing (French)',\n",
      "       'LPG Nozzle Types', 'Hydrogen Pressures', 'Hydrogen Standards',\n",
      "       'CNG Fill Type Code', 'CNG PSI', 'CNG Vehicle Class',\n",
      "       'LNG Vehicle Class', 'EV On-Site Renewable Source',\n",
      "       'Restricted Access'],\n",
      "      dtype='object')\n"
     ]
    }
   ],
   "source": [
    "print(df.columns)"
   ]
  },
  {
   "cell_type": "code",
   "execution_count": 15,
   "metadata": {},
   "outputs": [],
   "source": [
    "#filtering through the State Illinois\n",
    "df_filtered = df[df['State'] == 'IL']"
   ]
  },
  {
   "cell_type": "code",
   "execution_count": 16,
   "metadata": {},
   "outputs": [
    {
     "name": "stderr",
     "output_type": "stream",
     "text": [
      "C:\\Users\\fial_\\AppData\\Local\\Temp\\ipykernel_4916\\556181485.py:4: SettingWithCopyWarning: \n",
      "A value is trying to be set on a copy of a slice from a DataFrame.\n",
      "Try using .loc[row_indexer,col_indexer] = value instead\n",
      "\n",
      "See the caveats in the documentation: https://pandas.pydata.org/pandas-docs/stable/user_guide/indexing.html#returning-a-view-versus-a-copy\n",
      "  new_df['ID'] = range(1, len(new_df) + 1)\n"
     ]
    }
   ],
   "source": [
    "#Creating a new dataset with the columns to keep\n",
    "columns_to_keep = ['Fuel Type Code', 'Station Name', 'Street Address', 'City', 'State', 'Latitude', 'Longitude', 'Open Date', 'Access Code']\n",
    "new_df = df_filtered[columns_to_keep]\n",
    "new_df['ID'] = range(1, len(new_df) + 1)\n",
    "new_df = new_df.set_index('ID')"
   ]
  },
  {
   "cell_type": "code",
   "execution_count": 17,
   "metadata": {},
   "outputs": [],
   "source": [
    "new_df['Fuel Type Code'] = new_df['Fuel Type Code'].replace({\n",
    "    'E85': 'Ethanol Fuel', \n",
    "    'LPG': 'Liquified Petroleum Gas', \n",
    "    'BD': 'Biodiesel', \n",
    "    'CNG': 'Compressed Natural Gas', \n",
    "    'LNG': 'Liquified Natural Gas'})"
   ]
  },
  {
   "cell_type": "code",
   "execution_count": 18,
   "metadata": {},
   "outputs": [
    {
     "name": "stdout",
     "output_type": "stream",
     "text": [
      "               Fuel Type Code                       Station Name  \\\n",
      "ID                                                                 \n",
      "1                Ethanol Fuel              Evergreen FS Farmtown   \n",
      "2                Ethanol Fuel              Phillips 66 - Sandy's   \n",
      "3      Compressed Natural Gas  Springfield Mass Transit District   \n",
      "4     Liquified Petroleum Gas                           Hicksgas   \n",
      "5     Liquified Petroleum Gas              Blick & Blick Oil Inc   \n",
      "...                       ...                                ...   \n",
      "1451                     ELEC               La Salle EV Chargers   \n",
      "1452                     ELEC             VOLVO CHARGERS SHOP 01   \n",
      "1453                     ELEC             VOLVO CHARGERS SHOP 02   \n",
      "1454                     ELEC                        SWEC_ SWEC1   \n",
      "1455                     ELEC                        SWEC_ SWEC2   \n",
      "\n",
      "            Street Address         City State   Latitude  Longitude  \\\n",
      "ID                                                                    \n",
      "1        1808 Morrissey Dr  Bloomington    IL  40.453057 -88.966960   \n",
      "2     4545 Sandy Hollow Rd     Rockford    IL  42.223132 -89.027541   \n",
      "3             928 S 9th St  Springfield    IL  39.792275 -89.642936   \n",
      "4         202 N Highway 54      Roberts    IL  40.614405 -88.176263   \n",
      "5           203 SE 5th Ave        Aledo    IL  41.200666 -90.744960   \n",
      "...                    ...          ...   ...        ...        ...   \n",
      "1451      140 Marquette St      LaSalle    IL  41.328811 -89.095456   \n",
      "1452      4325 Lincoln Ave        Lisle    IL  41.806658 -88.075760   \n",
      "1453      4325 Lincoln Ave        Lisle    IL  41.806434 -88.075824   \n",
      "1454           6800 RT 162    Maryville    IL  38.737310 -89.945820   \n",
      "1455           6800 RT 162    Maryville    IL  38.737390 -89.945820   \n",
      "\n",
      "       Open Date Access Code  \n",
      "ID                            \n",
      "1     1993-11-15      public  \n",
      "2     2019-08-30      public  \n",
      "3     1992-06-15     private  \n",
      "4     1999-07-08      public  \n",
      "5     1999-07-08      public  \n",
      "...          ...         ...  \n",
      "1451  2021-07-27      public  \n",
      "1452  2021-07-29      public  \n",
      "1453  2021-07-29      public  \n",
      "1454  2021-07-29      public  \n",
      "1455  2021-07-29      public  \n",
      "\n",
      "[1455 rows x 9 columns]\n"
     ]
    }
   ],
   "source": [
    "print(new_df)"
   ]
  },
  {
   "cell_type": "code",
   "execution_count": 20,
   "metadata": {},
   "outputs": [],
   "source": [
    "# Save the new DataFrame to a new CSV file\n",
    "new_csv_file = 'Resources/filtered_data.csv'\n",
    "new_df.to_csv(new_csv_file, index=False)"
   ]
  }
 ],
 "metadata": {
  "kernelspec": {
   "display_name": "dev",
   "language": "python",
   "name": "python3"
  },
  "language_info": {
   "codemirror_mode": {
    "name": "ipython",
    "version": 3
   },
   "file_extension": ".py",
   "mimetype": "text/x-python",
   "name": "python",
   "nbconvert_exporter": "python",
   "pygments_lexer": "ipython3",
   "version": "3.10.12"
  },
  "orig_nbformat": 4
 },
 "nbformat": 4,
 "nbformat_minor": 2
}
